{
 "cells": [
  {
   "cell_type": "code",
   "execution_count": 1,
   "metadata": {
    "collapsed": true
   },
   "outputs": [
    {
     "data": {
      "text/plain": "True"
     },
     "execution_count": 1,
     "metadata": {},
     "output_type": "execute_result"
    }
   ],
   "source": [
    "from helpers.db_helpers import SqliteHelper\n",
    "from helpers.settings import DEMO_DB_PATH\n",
    "import pandas as pd\n",
    "\n",
    "from dotenv import load_dotenv\n",
    "import mindsdb_sdk\n",
    "\n",
    "import os\n",
    "\n",
    "# copy .env.example and rename to .env and add your writer api key and org id\n",
    "load_dotenv()\n"
   ]
  },
  {
   "cell_type": "code",
   "execution_count": 2,
   "outputs": [],
   "source": [
    "#set mindsdb project name\n",
    "\n",
    "project_name = 'writer_demo'"
   ],
   "metadata": {
    "collapsed": false
   }
  },
  {
   "cell_type": "code",
   "execution_count": 3,
   "outputs": [],
   "source": [
    "# Connect to local server\n",
    "server = mindsdb_sdk.connect()\n",
    "server = mindsdb_sdk.connect('http://127.0.0.1:47334')\n"
   ],
   "metadata": {
    "collapsed": false
   }
  },
  {
   "cell_type": "code",
   "execution_count": 4,
   "outputs": [
    {
     "ename": "RuntimeError",
     "evalue": "Project with name 'writer_demo' already exists",
     "output_type": "error",
     "traceback": [
      "\u001B[0;31m---------------------------------------------------------------------------\u001B[0m",
      "\u001B[0;31mRuntimeError\u001B[0m                              Traceback (most recent call last)",
      "Cell \u001B[0;32mIn[4], line 3\u001B[0m\n\u001B[1;32m      1\u001B[0m \u001B[38;5;66;03m#create project\u001B[39;00m\n\u001B[0;32m----> 3\u001B[0m \u001B[43mserver\u001B[49m\u001B[38;5;241;43m.\u001B[39;49m\u001B[43mcreate_project\u001B[49m\u001B[43m(\u001B[49m\u001B[43mproject_name\u001B[49m\u001B[43m)\u001B[49m\n",
      "File \u001B[0;32m~/PycharmProjects/mindsdb_demos/venv/lib/python3.11/site-packages/mindsdb_sdk/server.py:145\u001B[0m, in \u001B[0;36mServer.create_project\u001B[0;34m(self, name)\u001B[0m\n\u001B[1;32m    132\u001B[0m \u001B[38;5;250m\u001B[39m\u001B[38;5;124;03m\"\"\"\u001B[39;00m\n\u001B[1;32m    133\u001B[0m \u001B[38;5;124;03mCreate new project and return it\u001B[39;00m\n\u001B[1;32m    134\u001B[0m \n\u001B[1;32m    135\u001B[0m \u001B[38;5;124;03m:param name: name of the project\u001B[39;00m\n\u001B[1;32m    136\u001B[0m \u001B[38;5;124;03m:return: Project object\u001B[39;00m\n\u001B[1;32m    137\u001B[0m \u001B[38;5;124;03m\"\"\"\u001B[39;00m\n\u001B[1;32m    139\u001B[0m ast_query \u001B[38;5;241m=\u001B[39m CreateDatabase(\n\u001B[1;32m    140\u001B[0m     name\u001B[38;5;241m=\u001B[39mname,\n\u001B[1;32m    141\u001B[0m     engine\u001B[38;5;241m=\u001B[39m\u001B[38;5;124m'\u001B[39m\u001B[38;5;124mmindsdb\u001B[39m\u001B[38;5;124m'\u001B[39m,\n\u001B[1;32m    142\u001B[0m     parameters\u001B[38;5;241m=\u001B[39m{}\n\u001B[1;32m    143\u001B[0m )\n\u001B[0;32m--> 145\u001B[0m \u001B[38;5;28;43mself\u001B[39;49m\u001B[38;5;241;43m.\u001B[39;49m\u001B[43mapi\u001B[49m\u001B[38;5;241;43m.\u001B[39;49m\u001B[43msql_query\u001B[49m\u001B[43m(\u001B[49m\u001B[43mast_query\u001B[49m\u001B[38;5;241;43m.\u001B[39;49m\u001B[43mto_string\u001B[49m\u001B[43m(\u001B[49m\u001B[43m)\u001B[49m\u001B[43m)\u001B[49m\n\u001B[1;32m    146\u001B[0m \u001B[38;5;28;01mreturn\u001B[39;00m Project(\u001B[38;5;28mself\u001B[39m, name)\n",
      "File \u001B[0;32m~/PycharmProjects/mindsdb_demos/venv/lib/python3.11/site-packages/mindsdb_sdk/connectors/rest_api.py:11\u001B[0m, in \u001B[0;36m_try_relogin.<locals>.wrapper\u001B[0;34m(self, *args, **kwargs)\u001B[0m\n\u001B[1;32m      8\u001B[0m \u001B[38;5;129m@wraps\u001B[39m(fnc)\n\u001B[1;32m      9\u001B[0m \u001B[38;5;28;01mdef\u001B[39;00m \u001B[38;5;21mwrapper\u001B[39m(\u001B[38;5;28mself\u001B[39m, \u001B[38;5;241m*\u001B[39margs, \u001B[38;5;241m*\u001B[39m\u001B[38;5;241m*\u001B[39mkwargs):\n\u001B[1;32m     10\u001B[0m     \u001B[38;5;28;01mtry\u001B[39;00m:\n\u001B[0;32m---> 11\u001B[0m         \u001B[38;5;28;01mreturn\u001B[39;00m \u001B[43mfnc\u001B[49m\u001B[43m(\u001B[49m\u001B[38;5;28;43mself\u001B[39;49m\u001B[43m,\u001B[49m\u001B[43m \u001B[49m\u001B[38;5;241;43m*\u001B[39;49m\u001B[43margs\u001B[49m\u001B[43m,\u001B[49m\u001B[43m \u001B[49m\u001B[38;5;241;43m*\u001B[39;49m\u001B[38;5;241;43m*\u001B[39;49m\u001B[43mkwargs\u001B[49m\u001B[43m)\u001B[49m\n\u001B[1;32m     12\u001B[0m     \u001B[38;5;28;01mexcept\u001B[39;00m requests\u001B[38;5;241m.\u001B[39mHTTPError \u001B[38;5;28;01mas\u001B[39;00m e:\n\u001B[1;32m     13\u001B[0m         \u001B[38;5;28;01mif\u001B[39;00m e\u001B[38;5;241m.\u001B[39mresponse\u001B[38;5;241m.\u001B[39mstatus_code \u001B[38;5;241m!=\u001B[39m \u001B[38;5;241m401\u001B[39m:\n",
      "File \u001B[0;32m~/PycharmProjects/mindsdb_demos/venv/lib/python3.11/site-packages/mindsdb_sdk/connectors/rest_api.py:78\u001B[0m, in \u001B[0;36mRestAPI.sql_query\u001B[0;34m(self, sql, database, lowercase_columns)\u001B[0m\n\u001B[1;32m     76\u001B[0m     \u001B[38;5;28;01mreturn\u001B[39;00m pd\u001B[38;5;241m.\u001B[39mDataFrame(data[\u001B[38;5;124m'\u001B[39m\u001B[38;5;124mdata\u001B[39m\u001B[38;5;124m'\u001B[39m], columns\u001B[38;5;241m=\u001B[39mcolumns)\n\u001B[1;32m     77\u001B[0m \u001B[38;5;28;01mif\u001B[39;00m data[\u001B[38;5;124m'\u001B[39m\u001B[38;5;124mtype\u001B[39m\u001B[38;5;124m'\u001B[39m] \u001B[38;5;241m==\u001B[39m \u001B[38;5;124m'\u001B[39m\u001B[38;5;124merror\u001B[39m\u001B[38;5;124m'\u001B[39m:\n\u001B[0;32m---> 78\u001B[0m     \u001B[38;5;28;01mraise\u001B[39;00m \u001B[38;5;167;01mRuntimeError\u001B[39;00m(data[\u001B[38;5;124m'\u001B[39m\u001B[38;5;124merror_message\u001B[39m\u001B[38;5;124m'\u001B[39m])\n\u001B[1;32m     79\u001B[0m \u001B[38;5;28;01mreturn\u001B[39;00m \u001B[38;5;28;01mNone\u001B[39;00m\n",
      "\u001B[0;31mRuntimeError\u001B[0m: Project with name 'writer_demo' already exists"
     ]
    }
   ],
   "source": [
    "#create project\n",
    "\n",
    "server.create_project(project_name)"
   ],
   "metadata": {
    "collapsed": false
   }
  },
  {
   "cell_type": "code",
   "execution_count": null,
   "outputs": [],
   "source": [
    "# project\n",
    "project = server.get_project(project_name)\n",
    "\n",
    "print(project)"
   ],
   "metadata": {
    "collapsed": false
   }
  },
  {
   "cell_type": "code",
   "execution_count": null,
   "outputs": [],
   "source": [
    "#create local sqlite\n",
    "\n",
    "data = [\n",
    "\t{\n",
    "\t\"table_name\": \"context\",\n",
    "\t\"data\": \"../data/qa/drug_context_cleaned.csv\"\n",
    "},\n",
    "\t{\n",
    "\t\"table_name\": \"qa\",\n",
    "\t\"data\": \"../data/qa/questions.csv\"\n",
    "}\n",
    "]\n",
    "\n",
    "sqlite_helper = SqliteHelper(db_name=\"../data/qa/qa.db\")\n",
    "\n",
    "sqlite_helper.create_tables(\n",
    "\tdata=data\n",
    ")"
   ],
   "metadata": {
    "collapsed": false
   }
  },
  {
   "cell_type": "code",
   "execution_count": null,
   "outputs": [],
   "source": [
    "#add sqlite demo db to mindsdb\n",
    "\n",
    "server.drop_database(\"qa_writer\")\n",
    "server.create_database(\"qa_writer\",engine='sqlite',connection_args={'db_file':DEMO_DB_PATH})"
   ],
   "metadata": {
    "collapsed": false
   }
  },
  {
   "cell_type": "code",
   "execution_count": null,
   "outputs": [],
   "source": [
    "#create writer engine\n",
    "query = project.query('CREATE ML_ENGINE writer FROM writer')\n",
    "query.fetch()"
   ],
   "metadata": {
    "collapsed": false
   }
  },
  {
   "cell_type": "code",
   "execution_count": 42,
   "outputs": [
    {
     "name": "stdout",
     "output_type": "stream",
     "text": [
      "Project(writer_demo)\n"
     ]
    }
   ],
   "source": [
    "#drop model\n",
    "print(project)\n",
    "project.drop_model(\"writer_qa_demo\")"
   ],
   "metadata": {
    "collapsed": false
   }
  },
  {
   "cell_type": "code",
   "execution_count": 43,
   "outputs": [
    {
     "name": "stdout",
     "output_type": "stream",
     "text": [
      "Project(writer_demo)\n"
     ]
    }
   ],
   "source": [
    "#get context column names\n",
    "\n",
    "context_columns = pd.read_csv(\"../data/qa/drug_context_cleaned.csv\").columns.tolist()\n",
    "\n",
    "#ensure correct project\n",
    "project = server.get_project(project_name)\n",
    "print(project)\n",
    "\n",
    "#set Mindsdb model name\n",
    "model_name='writer_qa_demo'\n",
    "\n",
    "#create model\n",
    "writer_api_key = os.getenv(\"WRITER_API_KEY\")\n",
    "writer_org_id = os.getenv(\"WRITER_ORG_ID\")\n",
    "\n",
    "options=dict(\n",
    "\tmodel_name='palmyra-x',\n",
    "\tprompt_template='{question}',\n",
    "\twriter_org_id=writer_org_id,\n",
    "\twriter_api_key=writer_api_key,\n",
    "\tcontext_columns=context_columns,\n",
    ")\n",
    "\n",
    "model = project.create_model(\n",
    "\tname=model_name,\n",
    "\tpredict=\"type_of_product\",\n",
    "\tdatabase=\"qa_writer\",\n",
    "\tquery=\"select * from context limit 3\",\n",
    "\tengine=\"writer\",\n",
    "\toptions=options\n",
    ")\n"
   ],
   "metadata": {
    "collapsed": false
   }
  },
  {
   "cell_type": "code",
   "execution_count": 63,
   "outputs": [],
   "source": [
    "#run predictions\n",
    "\n",
    "df =project.query(\"SELECT * FROM writer_qa_demo WHERE question='How to treat a sore throat?'\").fetch()\n"
   ],
   "metadata": {
    "collapsed": false
   }
  },
  {
   "cell_type": "code",
   "execution_count": 13,
   "outputs": [
    {
     "ename": "HTTPError",
     "evalue": "500 Server Error: INTERNAL SERVER ERROR for url: http://127.0.0.1:47334/api/projects/writer_demo/models/writer_qa_demo/predict",
     "output_type": "error",
     "traceback": [
      "\u001B[0;31m---------------------------------------------------------------------------\u001B[0m",
      "\u001B[0;31mHTTPError\u001B[0m                                 Traceback (most recent call last)",
      "Cell \u001B[0;32mIn[13], line 4\u001B[0m\n\u001B[1;32m      2\u001B[0m project \u001B[38;5;241m=\u001B[39m server\u001B[38;5;241m.\u001B[39mget_project(project_name)\n\u001B[1;32m      3\u001B[0m model \u001B[38;5;241m=\u001B[39m project\u001B[38;5;241m.\u001B[39mget_model(model_name)\n\u001B[0;32m----> 4\u001B[0m df2 \u001B[38;5;241m=\u001B[39m \u001B[43mmodel\u001B[49m\u001B[38;5;241;43m.\u001B[39;49m\u001B[43mpredict\u001B[49m\u001B[43m(\u001B[49m\u001B[43mpred_df\u001B[49m\u001B[43m)\u001B[49m\n",
      "File \u001B[0;32m~/PycharmProjects/mindsdb_demos/venv/lib/python3.11/site-packages/mindsdb_sdk/model.py:105\u001B[0m, in \u001B[0;36mModel.predict\u001B[0;34m(self, data, params)\u001B[0m\n\u001B[1;32m    102\u001B[0m     \u001B[38;5;28;01mreturn\u001B[39;00m \u001B[38;5;28mself\u001B[39m\u001B[38;5;241m.\u001B[39mproject\u001B[38;5;241m.\u001B[39mapi\u001B[38;5;241m.\u001B[39msql_query(ast_query\u001B[38;5;241m.\u001B[39mto_string(), database\u001B[38;5;241m=\u001B[39mdata\u001B[38;5;241m.\u001B[39mdatabase)\n\u001B[1;32m    104\u001B[0m \u001B[38;5;28;01melif\u001B[39;00m \u001B[38;5;28misinstance\u001B[39m(data, pd\u001B[38;5;241m.\u001B[39mDataFrame):\n\u001B[0;32m--> 105\u001B[0m     \u001B[38;5;28;01mreturn\u001B[39;00m \u001B[38;5;28;43mself\u001B[39;49m\u001B[38;5;241;43m.\u001B[39;49m\u001B[43mproject\u001B[49m\u001B[38;5;241;43m.\u001B[39;49m\u001B[43mapi\u001B[49m\u001B[38;5;241;43m.\u001B[39;49m\u001B[43mmodel_predict\u001B[49m\u001B[43m(\u001B[49m\u001B[38;5;28;43mself\u001B[39;49m\u001B[38;5;241;43m.\u001B[39;49m\u001B[43mproject\u001B[49m\u001B[38;5;241;43m.\u001B[39;49m\u001B[43mname\u001B[49m\u001B[43m,\u001B[49m\u001B[43m \u001B[49m\u001B[38;5;28;43mself\u001B[39;49m\u001B[38;5;241;43m.\u001B[39;49m\u001B[43mname\u001B[49m\u001B[43m,\u001B[49m\u001B[43m \u001B[49m\u001B[43mdata\u001B[49m\u001B[43m,\u001B[49m\n\u001B[1;32m    106\u001B[0m \u001B[43m                                          \u001B[49m\u001B[43mparams\u001B[49m\u001B[38;5;241;43m=\u001B[39;49m\u001B[43mparams\u001B[49m\u001B[43m,\u001B[49m\u001B[43m \u001B[49m\u001B[43mversion\u001B[49m\u001B[38;5;241;43m=\u001B[39;49m\u001B[38;5;28;43mself\u001B[39;49m\u001B[38;5;241;43m.\u001B[39;49m\u001B[43mversion\u001B[49m\u001B[43m)\u001B[49m\n\u001B[1;32m    107\u001B[0m \u001B[38;5;28;01melse\u001B[39;00m:\n\u001B[1;32m    108\u001B[0m     \u001B[38;5;28;01mraise\u001B[39;00m \u001B[38;5;167;01mValueError\u001B[39;00m(\u001B[38;5;124m'\u001B[39m\u001B[38;5;124mUnknown input\u001B[39m\u001B[38;5;124m'\u001B[39m)\n",
      "File \u001B[0;32m~/PycharmProjects/mindsdb_demos/venv/lib/python3.11/site-packages/mindsdb_sdk/connectors/rest_api.py:14\u001B[0m, in \u001B[0;36m_try_relogin.<locals>.wrapper\u001B[0;34m(self, *args, **kwargs)\u001B[0m\n\u001B[1;32m     12\u001B[0m \u001B[38;5;28;01mexcept\u001B[39;00m requests\u001B[38;5;241m.\u001B[39mHTTPError \u001B[38;5;28;01mas\u001B[39;00m e:\n\u001B[1;32m     13\u001B[0m     \u001B[38;5;28;01mif\u001B[39;00m e\u001B[38;5;241m.\u001B[39mresponse\u001B[38;5;241m.\u001B[39mstatus_code \u001B[38;5;241m!=\u001B[39m \u001B[38;5;241m401\u001B[39m:\n\u001B[0;32m---> 14\u001B[0m         \u001B[38;5;28;01mraise\u001B[39;00m e\n\u001B[1;32m     16\u001B[0m     \u001B[38;5;66;03m# try re-login\u001B[39;00m\n\u001B[1;32m     17\u001B[0m     \u001B[38;5;28;01mtry\u001B[39;00m:\n",
      "File \u001B[0;32m~/PycharmProjects/mindsdb_demos/venv/lib/python3.11/site-packages/mindsdb_sdk/connectors/rest_api.py:11\u001B[0m, in \u001B[0;36m_try_relogin.<locals>.wrapper\u001B[0;34m(self, *args, **kwargs)\u001B[0m\n\u001B[1;32m      8\u001B[0m \u001B[38;5;129m@wraps\u001B[39m(fnc)\n\u001B[1;32m      9\u001B[0m \u001B[38;5;28;01mdef\u001B[39;00m \u001B[38;5;21mwrapper\u001B[39m(\u001B[38;5;28mself\u001B[39m, \u001B[38;5;241m*\u001B[39margs, \u001B[38;5;241m*\u001B[39m\u001B[38;5;241m*\u001B[39mkwargs):\n\u001B[1;32m     10\u001B[0m     \u001B[38;5;28;01mtry\u001B[39;00m:\n\u001B[0;32m---> 11\u001B[0m         \u001B[38;5;28;01mreturn\u001B[39;00m \u001B[43mfnc\u001B[49m\u001B[43m(\u001B[49m\u001B[38;5;28;43mself\u001B[39;49m\u001B[43m,\u001B[49m\u001B[43m \u001B[49m\u001B[38;5;241;43m*\u001B[39;49m\u001B[43margs\u001B[49m\u001B[43m,\u001B[49m\u001B[43m \u001B[49m\u001B[38;5;241;43m*\u001B[39;49m\u001B[38;5;241;43m*\u001B[39;49m\u001B[43mkwargs\u001B[49m\u001B[43m)\u001B[49m\n\u001B[1;32m     12\u001B[0m     \u001B[38;5;28;01mexcept\u001B[39;00m requests\u001B[38;5;241m.\u001B[39mHTTPError \u001B[38;5;28;01mas\u001B[39;00m e:\n\u001B[1;32m     13\u001B[0m         \u001B[38;5;28;01mif\u001B[39;00m e\u001B[38;5;241m.\u001B[39mresponse\u001B[38;5;241m.\u001B[39mstatus_code \u001B[38;5;241m!=\u001B[39m \u001B[38;5;241m401\u001B[39m:\n",
      "File \u001B[0;32m~/PycharmProjects/mindsdb_demos/venv/lib/python3.11/site-packages/mindsdb_sdk/connectors/rest_api.py:103\u001B[0m, in \u001B[0;36mRestAPI.model_predict\u001B[0;34m(self, project, model, data, params, version)\u001B[0m\n\u001B[1;32m     98\u001B[0m url \u001B[38;5;241m=\u001B[39m \u001B[38;5;28mself\u001B[39m\u001B[38;5;241m.\u001B[39murl \u001B[38;5;241m+\u001B[39m \u001B[38;5;124mf\u001B[39m\u001B[38;5;124m'\u001B[39m\u001B[38;5;124m/api/projects/\u001B[39m\u001B[38;5;132;01m{\u001B[39;00mproject\u001B[38;5;132;01m}\u001B[39;00m\u001B[38;5;124m/models/\u001B[39m\u001B[38;5;132;01m{\u001B[39;00mmodel\u001B[38;5;132;01m}\u001B[39;00m\u001B[38;5;124m/predict\u001B[39m\u001B[38;5;124m'\u001B[39m\n\u001B[1;32m     99\u001B[0m r \u001B[38;5;241m=\u001B[39m \u001B[38;5;28mself\u001B[39m\u001B[38;5;241m.\u001B[39msession\u001B[38;5;241m.\u001B[39mpost(url, json\u001B[38;5;241m=\u001B[39m{\n\u001B[1;32m    100\u001B[0m     \u001B[38;5;124m'\u001B[39m\u001B[38;5;124mdata\u001B[39m\u001B[38;5;124m'\u001B[39m: data,\n\u001B[1;32m    101\u001B[0m     \u001B[38;5;124m'\u001B[39m\u001B[38;5;124mparams\u001B[39m\u001B[38;5;124m'\u001B[39m: params\n\u001B[1;32m    102\u001B[0m })\n\u001B[0;32m--> 103\u001B[0m \u001B[43mr\u001B[49m\u001B[38;5;241;43m.\u001B[39;49m\u001B[43mraise_for_status\u001B[49m\u001B[43m(\u001B[49m\u001B[43m)\u001B[49m\n\u001B[1;32m    105\u001B[0m \u001B[38;5;28;01mreturn\u001B[39;00m pd\u001B[38;5;241m.\u001B[39mDataFrame(r\u001B[38;5;241m.\u001B[39mjson())\n",
      "File \u001B[0;32m~/PycharmProjects/mindsdb_demos/venv/lib/python3.11/site-packages/requests/models.py:1021\u001B[0m, in \u001B[0;36mResponse.raise_for_status\u001B[0;34m(self)\u001B[0m\n\u001B[1;32m   1016\u001B[0m     http_error_msg \u001B[38;5;241m=\u001B[39m (\n\u001B[1;32m   1017\u001B[0m         \u001B[38;5;124mf\u001B[39m\u001B[38;5;124m\"\u001B[39m\u001B[38;5;132;01m{\u001B[39;00m\u001B[38;5;28mself\u001B[39m\u001B[38;5;241m.\u001B[39mstatus_code\u001B[38;5;132;01m}\u001B[39;00m\u001B[38;5;124m Server Error: \u001B[39m\u001B[38;5;132;01m{\u001B[39;00mreason\u001B[38;5;132;01m}\u001B[39;00m\u001B[38;5;124m for url: \u001B[39m\u001B[38;5;132;01m{\u001B[39;00m\u001B[38;5;28mself\u001B[39m\u001B[38;5;241m.\u001B[39murl\u001B[38;5;132;01m}\u001B[39;00m\u001B[38;5;124m\"\u001B[39m\n\u001B[1;32m   1018\u001B[0m     )\n\u001B[1;32m   1020\u001B[0m \u001B[38;5;28;01mif\u001B[39;00m http_error_msg:\n\u001B[0;32m-> 1021\u001B[0m     \u001B[38;5;28;01mraise\u001B[39;00m HTTPError(http_error_msg, response\u001B[38;5;241m=\u001B[39m\u001B[38;5;28mself\u001B[39m)\n",
      "\u001B[0;31mHTTPError\u001B[0m: 500 Server Error: INTERNAL SERVER ERROR for url: http://127.0.0.1:47334/api/projects/writer_demo/models/writer_qa_demo/predict"
     ]
    }
   ],
   "source": [
    "# model_name='writer_qa_demo'\n",
    "# project = server.get_project(project_name)\n",
    "# model = project.get_model(model_name)\n",
    "# df2 = model.predict(pred_df)"
   ],
   "metadata": {
    "collapsed": false
   }
  },
  {
   "cell_type": "code",
   "execution_count": 64,
   "outputs": [
    {
     "data": {
      "text/plain": "Index(['question', 'answer', 'source_documents'], dtype='object')"
     },
     "execution_count": 64,
     "metadata": {},
     "output_type": "execute_result"
    }
   ],
   "source": [
    "df.columns"
   ],
   "metadata": {
    "collapsed": false
   }
  },
  {
   "cell_type": "code",
   "execution_count": 65,
   "outputs": [
    {
     "name": "stdout",
     "output_type": "stream",
     "text": [
      "                      question  \\\n",
      "0  How to treat a sore throat?   \n",
      "\n",
      "                                              answer  \\\n",
      "0  {\"choices\":[{\"text\":\"The correct answer is: se...   \n",
      "\n",
      "                                    source_documents  \n",
      "0  {'sources_content': ['medical help right away ...  \n"
     ]
    }
   ],
   "source": [
    "print(df.head(5))"
   ],
   "metadata": {
    "collapsed": false
   }
  },
  {
   "cell_type": "code",
   "execution_count": 67,
   "outputs": [
    {
     "data": {
      "text/plain": "{'sources_content': ['medical help right away Sore throat warning if sore throat is severe persists for more than 2 days is accompanied or followed by fever headache rash nausea or vomiting consult a doctor promptly',\n  'help right away Sore throat warning if sore throat is severe persists more than 2 days is accompanied or followed by fever headache rash nausea or vomitting consult a doctor promptly',\n  'seek medical help right away Sore throat warning If sore throat is severe persists for more than 2 days is accompanied or followed by fever headache rash nausea or vomiting consult a doctor promptly Do not use DAYTIME NIGHTTIME with any other drug containing acetaminophen prescription or nonprescription If you are not sure whether a drug contains acetaminophen ask a doctor or pharmacist if you are now taking a prescription monoamine oxidase inhibitor MAOI certain drugs for depression psychiatric',\n  'drug take other drugs containing prescription or nonprescription NSAIDs aspirin ibuprofen naproxen or others have 3 or more alcoholic drinks every day while using this product take more or for a longer time than directed Sore throat warning If sore throat is severe persists for more than 2 days is accompanied or followed by fever headache rash nausea or vomiting consult a doctor promptly Do not use to sedate children'],\n 'sources_document': ['source_documents/drug_context_cleaned.csv',\n  'source_documents/drug_context_cleaned.csv',\n  'source_documents/drug_context_cleaned.csv',\n  'source_documents/drug_context_cleaned.csv'],\n 'sources_row': [5124, 1892, 3555, 213]}"
     },
     "execution_count": 67,
     "metadata": {},
     "output_type": "execute_result"
    }
   ],
   "source": [
    "df['source_documents'][0]"
   ],
   "metadata": {
    "collapsed": false
   }
  },
  {
   "cell_type": "code",
   "execution_count": null,
   "outputs": [],
   "source": [],
   "metadata": {
    "collapsed": false,
    "pycharm": {
     "is_executing": true
    }
   }
  },
  {
   "cell_type": "code",
   "execution_count": 40,
   "outputs": [],
   "source": [],
   "metadata": {
    "collapsed": false
   }
  }
 ],
 "metadata": {
  "kernelspec": {
   "display_name": "Python 3",
   "language": "python",
   "name": "python3"
  },
  "language_info": {
   "codemirror_mode": {
    "name": "ipython",
    "version": 2
   },
   "file_extension": ".py",
   "mimetype": "text/x-python",
   "name": "python",
   "nbconvert_exporter": "python",
   "pygments_lexer": "ipython2",
   "version": "2.7.6"
  }
 },
 "nbformat": 4,
 "nbformat_minor": 0
}
